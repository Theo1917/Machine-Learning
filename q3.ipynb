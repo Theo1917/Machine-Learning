{
 "cells": [
  {
   "cell_type": "code",
   "execution_count": 6,
   "metadata": {},
   "outputs": [
    {
     "name": "stdout",
     "output_type": "stream",
     "text": [
      "Enter the elements of the matrix:\n",
      "Enter the argument:\n",
      "[[ 1 16]\n",
      " [ 1 16]]\n"
     ]
    }
   ],
   "source": [
    "import numpy as np\n",
    "def square_matrix():\n",
    "    num_r=int(input(\"Enter number of rows:\"))\n",
    "    num_c = int(input(\"Enter number of columns:\"))\n",
    "    if num_r==num_c:\n",
    "        print(\"Enter the elements of the matrix:\")\n",
    "        A = np.array([[int(input()) for i in range(num_c)] for j in range(num_r)])\n",
    "        print(\"Enter the argument:\")\n",
    "        m = int(input())\n",
    "        print(pow(A,m))\n",
    "\n",
    "\n",
    "square_matrix()"
   ]
  }
 ],
 "metadata": {
  "kernelspec": {
   "display_name": "Python 3",
   "language": "python",
   "name": "python3"
  },
  "language_info": {
   "codemirror_mode": {
    "name": "ipython",
    "version": 3
   },
   "file_extension": ".py",
   "mimetype": "text/x-python",
   "name": "python",
   "nbconvert_exporter": "python",
   "pygments_lexer": "ipython3",
   "version": "3.12.4"
  }
 },
 "nbformat": 4,
 "nbformat_minor": 2
}
