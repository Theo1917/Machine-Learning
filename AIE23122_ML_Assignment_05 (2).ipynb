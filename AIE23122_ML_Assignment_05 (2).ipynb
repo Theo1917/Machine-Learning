{
 "cells": [
  {
   "cell_type": "code",
   "execution_count": null,
   "metadata": {},
   "outputs": [],
   "source": [
    "import pandas as pd\n",
    "import numpy as np\n",
    "from sklearn.model_selection import train_test_split\n",
    "from sklearn.linear_model import LinearRegression\n",
    "from sklearn.metrics import mean_squared_error, mean_absolute_percentage_error, r2_score\n",
    "from sklearn.cluster import KMeans\n",
    "from sklearn.metrics import silhouette_score, calinski_harabasz_score, davies_bouldin_score\n",
    "import matplotlib.pyplot as plt\n",
    "\n",
    "df = pd.read_csv(\"face_data_multi.csv\")  \n",
    "\n",
    "y = df.iloc[:, 0].values\n",
    "X = df.iloc[:, 1:].values\n"
   ]
  },
  {
   "cell_type": "markdown",
   "metadata": {},
   "source": [
    "A1,A2"
   ]
  },
  {
   "cell_type": "code",
   "execution_count": null,
   "metadata": {},
   "outputs": [
    {
     "name": "stdout",
     "output_type": "stream",
     "text": [
      "Train Set: MSE: 530.7435973989577 RMSE: 23.037873109272862 MAPE: 624390201955009.8 R2: 0.9139890790210013\n",
      "Test Set: MSE: 542.7924388291003 RMSE: 23.297906318575073 MAPE: 455017428112708.6 R2: 0.9126394434133814\n"
     ]
    }
   ],
   "source": [
    "X_train, X_test, y_train, y_test = train_test_split(X[:, 0].reshape(-1, 1), X[:, 1], test_size=0.2, random_state=42)\n",
    "\n",
    "reg = LinearRegression().fit(X_train, y_train)\n",
    "\n",
    "y_train_pred = reg.predict(X_train)\n",
    "y_test_pred = reg.predict(X_test)\n",
    "\n",
    "def evaluate_regression(y_true, y_pred):\n",
    "    mse = mean_squared_error(y_true, y_pred)\n",
    "    rmse = np.sqrt(mse)\n",
    "    mape = mean_absolute_percentage_error(y_true, y_pred)\n",
    "    r2 = r2_score(y_true, y_pred)\n",
    "    return mse, rmse, mape, r2\n",
    "\n",
    "train_metrics = evaluate_regression(y_train, y_train_pred)\n",
    "test_metrics = evaluate_regression(y_test, y_test_pred)\n",
    "\n",
    "print(\"Train Set: MSE:\", train_metrics[0], \"RMSE:\", train_metrics[1], \"MAPE:\", train_metrics[2], \"R2:\", train_metrics[3])\n",
    "print(\"Test Set: MSE:\", test_metrics[0], \"RMSE:\", test_metrics[1], \"MAPE:\", test_metrics[2], \"R2:\", test_metrics[3])\n"
   ]
  },
  {
   "cell_type": "markdown",
   "metadata": {},
   "source": [
    "A3"
   ]
  },
  {
   "cell_type": "code",
   "execution_count": null,
   "metadata": {},
   "outputs": [
    {
     "name": "stdout",
     "output_type": "stream",
     "text": [
      "Train Set with All Attributes: (2.3933165217039002e-24, 1.547034751291612e-12, 98.2433663537836, 1.0)\n",
      "Test Set with All Attributes: (2.50545911672041e-24, 1.5828642129760879e-12, 92.38652378504273, 1.0)\n"
     ]
    }
   ],
   "source": [
    "X_train, X_test, y_train, y_test = train_test_split(X, X[:, 1], test_size=0.2, random_state=42)\n",
    "\n",
    "reg_all = LinearRegression().fit(X_train, y_train)\n",
    "\n",
    "y_train_pred_all = reg_all.predict(X_train)\n",
    "y_test_pred_all = reg_all.predict(X_test)\n",
    "\n",
    "train_metrics_all = evaluate_regression(y_train, y_train_pred_all)\n",
    "test_metrics_all = evaluate_regression(y_test, y_test_pred_all)\n",
    "\n",
    "print(\"Train Set with All Attributes:\", train_metrics_all)\n",
    "print(\"Test Set with All Attributes:\", test_metrics_all)\n"
   ]
  },
  {
   "cell_type": "markdown",
   "metadata": {},
   "source": [
    "A4"
   ]
  },
  {
   "cell_type": "code",
   "execution_count": null,
   "metadata": {},
   "outputs": [
    {
     "name": "stdout",
     "output_type": "stream",
     "text": [
      "Cluster Centers:\n",
      " [[143.6625498  141.08615538 139.13227092 ... 138.17778884 138.90268924\n",
      "  139.52131474]\n",
      " [ 84.90359462  82.56297448  79.88621604 ...  81.01399433  81.87972194\n",
      "   83.10683253]]\n"
     ]
    }
   ],
   "source": [
    "kmeans = KMeans(n_clusters=2, random_state=42, n_init=\"auto\").fit(X_train)\n",
    "\n",
    "labels = kmeans.labels_\n",
    "centers = kmeans.cluster_centers_\n",
    "\n",
    "print(\"Cluster Centers:\\n\", centers)\n"
   ]
  },
  {
   "cell_type": "markdown",
   "metadata": {},
   "source": [
    "A5"
   ]
  },
  {
   "cell_type": "code",
   "execution_count": 7,
   "metadata": {},
   "outputs": [
    {
     "name": "stdout",
     "output_type": "stream",
     "text": [
      "Silhouette Score: 0.15771371478240168\n",
      "Calinski-Harabasz Score: 4635.032715053036\n",
      "Davies-Bouldin Index: 2.072743949399763\n"
     ]
    }
   ],
   "source": [
    "silhouette = silhouette_score(X_train, labels)\n",
    "ch_score = calinski_harabasz_score(X_train, labels)\n",
    "db_index = davies_bouldin_score(X_train, labels)\n",
    "\n",
    "print(\"Silhouette Score:\", silhouette)\n",
    "print(\"Calinski-Harabasz Score:\", ch_score)\n",
    "print(\"Davies-Bouldin Index:\", db_index)\n"
   ]
  },
  {
   "cell_type": "markdown",
   "metadata": {},
   "source": [
    "A6"
   ]
  },
  {
   "cell_type": "code",
   "execution_count": null,
   "metadata": {},
   "outputs": [],
   "source": [
    "k_values = range(2, 10)\n",
    "silhouette_scores, ch_scores, db_scores = [], [], []\n",
    "\n",
    "for k in k_values:\n",
    "    kmeans = KMeans(n_clusters=k, random_state=42, n_init=\"auto\").fit(X_train)\n",
    "    labels = kmeans.labels_\n",
    "\n",
    "    silhouette_scores.append(silhouette_score(X_train, labels))\n",
    "    ch_scores.append(calinski_harabasz_score(X_train, labels))\n",
    "    db_scores.append(davies_bouldin_score(X_train, labels))\n",
    "\n",
    "plt.figure(figsize=(12, 5))\n",
    "plt.subplot(1, 3, 1)\n",
    "plt.plot(k_values, silhouette_scores, marker='o')\n",
    "plt.title('Silhouette Score vs k')\n",
    "plt.xlabel('Number of Clusters (k)')\n",
    "plt.ylabel('Silhouette Score')\n",
    "\n",
    "plt.subplot(1, 3, 2)\n",
    "plt.plot(k_values, ch_scores, marker='o')\n",
    "plt.title('Calinski-Harabasz Score vs k')\n",
    "plt.xlabel('Number of Clusters (k)')\n",
    "plt.ylabel('CH Score')\n",
    "\n",
    "plt.subplot(1, 3, 3)\n",
    "plt.plot(k_values, db_scores, marker='o')\n",
    "plt.title('Davies-Bouldin Index vs k')\n",
    "plt.xlabel('Number of Clusters (k)')\n",
    "plt.ylabel('DB Index')\n",
    "\n",
    "plt.tight_layout()\n",
    "plt.show()\n"
   ]
  },
  {
   "cell_type": "markdown",
   "metadata": {},
   "source": [
    "A7"
   ]
  },
  {
   "cell_type": "code",
   "execution_count": null,
   "metadata": {},
   "outputs": [],
   "source": [
    "distortions = []\n",
    "\n",
    "for k in range(2, 20):\n",
    "    kmeans = KMeans(n_clusters=k, random_state=42, n_init=\"auto\").fit(X_train)\n",
    "    distortions.append(kmeans.inertia_)\n",
    "\n",
    "plt.figure(figsize=(6, 4))\n",
    "plt.plot(range(2, 20), distortions, marker='o', linestyle='-')\n",
    "plt.xlabel('Number of Clusters (k)')\n",
    "plt.ylabel('Inertia (Distortion)')\n",
    "plt.title('Elbow Method for Optimal k')\n",
    "plt.show()\n"
   ]
  }
 ],
 "metadata": {
  "kernelspec": {
   "display_name": "Python 3",
   "language": "python",
   "name": "python3"
  },
  "language_info": {
   "codemirror_mode": {
    "name": "ipython",
    "version": 3
   },
   "file_extension": ".py",
   "mimetype": "text/x-python",
   "name": "python",
   "nbconvert_exporter": "python",
   "pygments_lexer": "ipython3",
   "version": "3.12.9"
  }
 },
 "nbformat": 4,
 "nbformat_minor": 2
}
