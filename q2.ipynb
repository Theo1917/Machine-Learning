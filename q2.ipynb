{
 "cells": [
  {
   "cell_type": "code",
   "execution_count": 5,
   "metadata": {},
   "outputs": [
    {
     "name": "stdout",
     "output_type": "stream",
     "text": [
      "8 - 0\n"
     ]
    }
   ],
   "source": [
    "A=[5,3,8,1,0,4]\n",
    "\n",
    "def calculator(A):\n",
    "    if len(A)> 3:\n",
    "        print( max(A),\"-\",-min(A))\n",
    "    \n",
    "calculator(A)\n"
   ]
  }
 ],
 "metadata": {
  "kernelspec": {
   "display_name": "Python 3",
   "language": "python",
   "name": "python3"
  },
  "language_info": {
   "name": "python",
   "version": "3.12.4"
  }
 },
 "nbformat": 4,
 "nbformat_minor": 2
}
